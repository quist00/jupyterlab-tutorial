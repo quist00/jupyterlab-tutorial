{
 "cells": [
  {
   "cell_type": "markdown",
   "id": "7df883cf-5309-4304-9406-af99c0908d07",
   "metadata": {
    "editable": true,
    "slideshow": {
     "slide_type": "slide"
    },
    "tags": []
   },
   "source": [
    "### Introduction to JupyterLab\n",
    "- What is JupyterLab?\n",
    "- How can you access it?\n",
    "- Interface basics"
   ]
  },
  {
   "cell_type": "markdown",
   "id": "31b204b0-8ec4-498a-9394-156fa9e18ba7",
   "metadata": {
    "editable": true,
    "slideshow": {
     "slide_type": "slide"
    },
    "tags": []
   },
   "source": [
    "### What is JupyterLab?\n",
    "![JupyterLab Launcher](images/jupyterlablauncher.png){ height=512px }"
   ]
  },
  {
   "cell_type": "markdown",
   "id": "987a18b0-c4df-4297-aa00-3bb24e28a1a8",
   "metadata": {
    "editable": true,
    "slideshow": {
     "slide_type": "slide"
    },
    "tags": []
   },
   "source": [
    "### JupyterLab:\n",
    "- Browser-based interactive environment\n",
    "- Combines functional code, data exploration, and presentation in a single portable file\n",
    "- Supports Python, R, Julia, and more\n",
    "- Ideal for data science, research, and teaching"
   ]
  },
  {
   "cell_type": "markdown",
   "id": "88c427d8-8c97-46c8-bc70-5b6d752efa9a",
   "metadata": {
    "editable": true,
    "slideshow": {
     "slide_type": "slide"
    },
    "tags": []
   },
   "source": [
    "### JupyterLab: Open Notebook\n",
    "![JupyterLab Launcher](images/jupyterlabopennotebook.png){ height=50% }"
   ]
  },
  {
   "cell_type": "markdown",
   "id": "15de31bc-3b2c-46c1-a2ea-1ca2b9f79032",
   "metadata": {
    "editable": true,
    "slideshow": {
     "slide_type": "slide"
    },
    "tags": []
   },
   "source": [
    "### Jupyter on Your Hardware\n",
    "- Requires more setup effort\n",
    "- Limited by your hardware, but keeps data local"
   ]
  },
  {
   "cell_type": "markdown",
   "id": "8b0e4dc4-e3a6-4c6f-ab1b-00518c5e71d4",
   "metadata": {
    "editable": true,
    "slideshow": {
     "slide_type": "slide"
    },
    "tags": []
   },
   "source": [
    "### Jupyter Cloud-Based Options\n",
    "- Multiple platforms available:\n",
    "    - Google Colab\n",
    "    - Kaggle Notebooks\n",
    "    - Azure Notebooks\n",
    "    - Binder\n",
    "    - GitHub Codespaces\n",
    "    - JupyterHub (e.g., Titan Computing Hub)"
   ]
  },
  {
   "cell_type": "markdown",
   "id": "bff22c2d-aa33-4e37-84c2-961ae5799694",
   "metadata": {
    "editable": true,
    "slideshow": {
     "slide_type": "slide"
    },
    "tags": []
   },
   "source": [
    "### Accessing JupyterLab via JupyterHub\n",
    "- No local installation required\n",
    "- Open a web browser (e.g., Chrome, Firefox)\n",
    "- Navigate to your [JupyterHub URL](https://www.fullerton.edu/it/services/software/jupyter)"
   ]
  },
  {
   "cell_type": "markdown",
   "id": "9d321c7e-e454-4736-9d44-3c394e3b0d83",
   "metadata": {
    "editable": true,
    "slideshow": {
     "slide_type": "slide"
    },
    "tags": []
   },
   "source": [
    "### Accessing JupyterLab via JupyterHub (cont.)\n",
    "- Click `Launch JupyterHub`\n",
    "- Select `JupyterHub (Nautilus)`\n",
    "- Log in with campus credentials\n",
    "    - Choose \"Campus\" from the provider dropdown"
   ]
  },
  {
   "cell_type": "markdown",
   "id": "68d61e60-5800-49b8-8c13-4064615060a9",
   "metadata": {
    "editable": true,
    "slideshow": {
     "slide_type": "slide"
    },
    "tags": []
   },
   "source": [
    "### Accessing JupyterLab via JupyterHub (cont.)\n",
    "- Set minimum hardware requirements\n",
    "- Click `Start` and wait for the instance to launch\n",
    "    - Starts with 5GB of storage\n",
    "    - Overfilling storage may prevent launching"
   ]
  },
  {
   "cell_type": "markdown",
   "id": "9d20a05a-3751-409c-b4dd-1417076cab86",
   "metadata": {
    "editable": true,
    "slideshow": {
     "slide_type": "slide"
    },
    "tags": []
   },
   "source": [
    "### Closing JupyterLab\n",
    "- Save your work: `File > Save Notebook`\n",
    "- Log out via the Hub Control Panel (`File` menu)\n",
    "- Session persists until timeout (set by admin)\n",
    "- Reconnect by revisiting the JupyterHub URL"
   ]
  },
  {
   "cell_type": "markdown",
   "id": "f1bffa15-8432-4734-abed-0175de5b0929",
   "metadata": {
    "editable": true,
    "slideshow": {
     "slide_type": "slide"
    },
    "tags": []
   },
   "source": [
    "### JupyterLab Interface\n",
    "- **Menu Bar**: File, Edit, View, Run options\n",
    "- **Left Sidebar**: File browser, running kernels, extensions\n",
    "- **Main Work Area**: Notebooks, terminals, text editors"
   ]
  },
  {
   "cell_type": "markdown",
   "id": "eac7e36a-d132-4fd4-8790-11c443c4a40e",
   "metadata": {
    "editable": true,
    "slideshow": {
     "slide_type": "slide"
    },
    "tags": []
   },
   "source": [
    "### Demo: Leveraging Others' Work\n",
    "- Static Examples: [CS](https://nbviewer.org/github/yoavram/CS1001.py/blob/master/recitation1.ipynb), [Soc](https://nbviewer.org/github/nealcaren/workshop_2014/blob/master/notebooks/1_into.ipynb), [Time Series](https://nbviewer.org/github/markdregan/K-Nearest-Neighbors-with-Dynamic-Time-Warping/blob/master/K_Nearest_Neighbor_Dynamic_Time_Warping.ipynb)\n",
    "- Example: [GLAM Workbench Wikidata](https://glam-workbench.net/wikidata/)\n",
    "- (Your personal notes: `source venv/bin/activate`, `python -m jupyter lab`)"
   ]
  },
  {
   "cell_type": "markdown",
   "id": "aebcedb5-c092-4fa0-b55d-ccf0f4d716de",
   "metadata": {
    "editable": true,
    "slideshow": {
     "slide_type": "slide"
    },
    "tags": []
   },
   "source": [
    "### Operations, Tips, and Shortcuts\n",
    "- Create a Markdown cell\n",
    "- Create a code cell\n",
    "- Run cells\n",
    "- Use Command Mode and keyboard shortcuts"
   ]
  },
  {
   "cell_type": "markdown",
   "id": "467e810c-e22c-4c45-be47-8bd4bbf36339",
   "metadata": {
    "editable": true,
    "slideshow": {
     "slide_type": "slide"
    },
    "tags": []
   },
   "source": [
    "### Closing JupyterLab (Repeated for Emphasis)\n",
    "- Save your work: `File > Save Notebook`\n",
    "- Log out via the Hub Control Panel (`File` menu)\n",
    "- Session persists until timeout (set by admin)\n",
    "- Reconnect by revisiting the JupyterHub URL"
   ]
  },
  {
   "cell_type": "markdown",
   "id": "b621d074-6356-4a14-921b-e0cd48e26bb1",
   "metadata": {
    "editable": true,
    "slideshow": {
     "slide_type": "slide"
    },
    "tags": []
   },
   "source": [
    "### Where to Go from Here\n",
    "- Experiment with JupyterHub to assess its value\n",
    "- Learn to install and use Jupyter locally\n",
    "    - Explore [Carpentries workshops](https://carpentries.org/workshops/upcoming-workshops/)\n",
    "- Self-study via [LinkedIn Learning](https://www.linkedin.com/learning/introducing-jupyter/present-data-like-a-pro-with-jupyter)\n",
    "- Return to JupyterHub when it fits your research needs"
   ]
  },
  {
   "cell_type": "markdown",
   "id": "309a3d9c-a4a4-4b6f-be87-67000e54169b",
   "metadata": {
    "editable": true,
    "slideshow": {
     "slide_type": "slide"
    },
    "tags": []
   },
   "source": [
    "### Resources\n",
    "- [Gallery of Notebooks](https://github.com/Carreau/ipython-wiki/blob/master/A-gallery-of-interesting-IPython-Notebooks.md)\n",
    "- [JupyterLab Documentation](https://jupyterlab.readthedocs.io/en/stable/)\n",
    "- [nbviewer](https://nbviewer.org/)\n",
    "- [JupyterHub User Guide](https://nationalresearchplatform.org/documentation/userdocs/jupyter/jupyterhub-service/)\n",
    "- [CSUF JupyterHub](https://www.fullerton.edu/it/services/software/jupyter/)\n",
    "- [Carpentries: Open Data Science Education](https://carpentries.org/)\n",
    "- [LinkedIn Learning: Jupyter](https://www.linkedin.com/learning/introducing-jupyter/)"
   ]
  },
  {
   "cell_type": "code",
   "execution_count": null,
   "id": "fcb56bfd-1fd6-4b87-86e9-2bc2858b9ea8",
   "metadata": {
    "editable": true,
    "slideshow": {
     "slide_type": ""
    },
    "tags": []
   },
   "outputs": [],
   "source": []
  },
  {
   "cell_type": "markdown",
   "id": "4eec505b-8c0e-417b-baa4-cc5922c8ff21",
   "metadata": {},
   "source": []
  },
  {
   "cell_type": "code",
   "execution_count": null,
   "id": "5b9c05e2-9b6a-4e23-bfd2-2cdabb30bfc2",
   "metadata": {},
   "outputs": [],
   "source": []
  }
 ],
 "metadata": {
  "kernelspec": {
   "display_name": "Python 3 (ipykernel)",
   "language": "python",
   "name": "python3"
  },
  "language_info": {
   "codemirror_mode": {
    "name": "ipython",
    "version": 3
   },
   "file_extension": ".py",
   "mimetype": "text/x-python",
   "name": "python",
   "nbconvert_exporter": "python",
   "pygments_lexer": "ipython3",
   "version": "3.11.8"
  }
 },
 "nbformat": 4,
 "nbformat_minor": 5
}
